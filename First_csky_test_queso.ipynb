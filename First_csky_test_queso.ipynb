{
 "cells": [
  {
   "cell_type": "code",
   "execution_count": 1,
   "id": "f92369ad-b429-4a4e-b9ae-8733b4824a82",
   "metadata": {},
   "outputs": [],
   "source": [
    "import numpy as np\n",
    "import matplotlib.pyplot as plt\n",
    "\n",
    "import histlite as hl\n",
    "import csky as cy\n",
    "import glob as glob\n",
    "\n",
    "%matplotlib inline"
   ]
  },
  {
   "cell_type": "code",
   "execution_count": 2,
   "id": "ea40dbd3-281f-4372-99f6-6b524bafb328",
   "metadata": {},
   "outputs": [],
   "source": [
    "timer = cy.timing.Timer()\n",
    "time = timer.time"
   ]
  },
  {
   "cell_type": "code",
   "execution_count": 27,
   "id": "1238f3d3-0e3c-40db-b918-26209042b2b0",
   "metadata": {},
   "outputs": [],
   "source": [
    "#fake GRL \n",
    "current_mjd = 60369\n",
    "runstart = 135328\n",
    "run_duration = 1/3 #8h\n",
    "nr_runs = 2000\n",
    "background_event_rate = 4.587\n",
    "\n",
    "new_grl_entries = []\n",
    "dtype = [('run', int), ('start', np.float64), ('stop', np.float64), ('livetime', np.float64), ('events', int)]\n",
    "for i in range(runstart, runstart+nr_runs+1):\n",
    "    new_grl_entries.append((i, current_mjd, current_mjd + run_duration, run_duration, background_event_rate))\n",
    "    current_mjd += run_duration\n",
    "\n",
    "grl = np.array(new_grl_entries, dtype=dtype)"
   ]
  },
  {
   "cell_type": "markdown",
   "id": "8fb7dd94-f5d3-42b3-aabc-1ff4a5be0108",
   "metadata": {},
   "source": [
    "- We used the GettingStarted (https://docs.icecube.aq/csky/main/01_getting_started.html) and Implementation Inspection tutorial (https://docs.icecube.aq/csky/main/06_implementation_inspection.html) from csky as a guide \n",
    "- Also: we looked at the Greco GRB 2022 analysis (https://github.com/icecube/wg-nu-sources/blob/main/2022_GRECO_GRB/scripts/01_get_no_prior_background_allsky_scan.py)\n",
    "- We tried to make our own dataset"
   ]
  },
  {
   "cell_type": "markdown",
   "id": "814087a8-c3a1-4d20-b1e0-25be3e1ca54d",
   "metadata": {},
   "source": [
    "# Try to make our own dataset\n",
    "- We use the following queso data: data/sim/IceCubeUpgrade/genie/level4_queso/ (120028, 121028, 140028, 141028, 160028, 161028) & \n",
    "data/sim/IceCubeUpgrade/muongun/level4_queso/130028\n",
    "- using Michael’s .i3 to .npy converter: https://github.com/mjlarson/nusources_dataset_converters/tree/main\n",
    "- \n"
   ]
  },
  {
   "cell_type": "code",
   "execution_count": 30,
   "id": "2ebc512a-8c93-4d2e-9a22-df8db06947c7",
   "metadata": {},
   "outputs": [],
   "source": [
    "# Reading in the signal and background files and change the keys to the correct ones --> so that csky can read it\n",
    "\n",
    "def get_signal_files(key):\n",
    "    dir = \"/data/user/bschlueter/software/nusources_dataset_converters/data/queso_\"+str(key)+\".npy\"\n",
    "    sig = np.load(dir)\n",
    "    sig = np.hstack(sig)\n",
    "    sig_upgraded = np.lib.recfunctions.rename_fields(sig, {'ow': 'oneweight','trueE':'true_energy'})\n",
    "    sig_upgraded = sig_upgraded.view(np.recarray)\n",
    "    return sig_upgraded\n",
    "\n",
    "bg_filename = \"/data/user/bschlueter/software/nusources_dataset_converters/data/muongun_131028.npy\"\n",
    "bg = np.load(bg_filename)\n",
    "bg_upgraded = np.lib.recfunctions.rename_fields(bg, {'atmo_weight': 'weight'})\n",
    "bg_upgraded = bg_upgraded.view(np.recarray)"
   ]
  },
  {
   "cell_type": "code",
   "execution_count": 33,
   "id": "7e7d896c-fad4-4e57-b323-436fd09886a9",
   "metadata": {},
   "outputs": [
    {
     "name": "stdout",
     "output_type": "stream",
     "text": [
      "Setting up Analysis for:\n",
      "\n",
      "Done.\n",
      "\n",
      "0:00:00.000642 elapsed.\n"
     ]
    }
   ],
   "source": [
    "# try to make the own dataset \n",
    "\n",
    "keys = ['120028','121028','140028','141028','160028','161028']\n",
    "Dataset = []\n",
    "for key in keys:  \n",
    "    Dataset.append(cy.selections.Dataset(key = key,livetime=8*60*60, sig= get_signal_files(key), bg = bg_upgraded))\n",
    "\n",
    "#and then create an ana as in the tutorial\n",
    "with time('ana setup (from scratch)'):\n",
    "    ana = cy.get_analysis(cy.selections.repo,spec = Dataset)"
   ]
  },
  {
   "cell_type": "code",
   "execution_count": 34,
   "id": "6360cbed-59eb-4972-9092-b72366c9068c",
   "metadata": {},
   "outputs": [
    {
     "data": {
      "text/plain": [
       "[Dataset('120028', livetime = 28800s) with  and 0.0006169195555999903 expected bg events and sum(ow*E^-2) = 1.60,\n",
       " Dataset('121028', livetime = 28800s) with  and 0.0006169195555999903 expected bg events and sum(ow*E^-2) = 0.41,\n",
       " Dataset('140028', livetime = 28800s) with  and 0.0006169195555999903 expected bg events and sum(ow*E^-2) = 1.46,\n",
       " Dataset('141028', livetime = 28800s) with  and 0.0006169195555999903 expected bg events and sum(ow*E^-2) = 1.47,\n",
       " Dataset('160028', livetime = 28800s) with  and 0.0006169195555999903 expected bg events and sum(ow*E^-2) = 1.02,\n",
       " Dataset('161028', livetime = 28800s) with  and 0.0006169195555999903 expected bg events and sum(ow*E^-2) = 0.50]"
      ]
     },
     "execution_count": 34,
     "metadata": {},
     "output_type": "execute_result"
    }
   ],
   "source": [
    "Dataset"
   ]
  },
  {
   "cell_type": "markdown",
   "id": "8904003c-467b-455b-864e-84cb8b60a3e5",
   "metadata": {},
   "source": [
    "<span style=\"color:red;\">Problem: empty keys in ana.</span>"
   ]
  },
  {
   "cell_type": "code",
   "execution_count": 35,
   "id": "2aeaf33b-74d4-4081-8587-8a65552a5c40",
   "metadata": {},
   "outputs": [
    {
     "name": "stdout",
     "output_type": "stream",
     "text": [
      "Analysis(keys=[])\n"
     ]
    }
   ],
   "source": [
    "cy.CONF['ana'] = ana\n",
    "cy.CONF['mp_cpus'] = 1\n",
    "print(ana)"
   ]
  },
  {
   "cell_type": "markdown",
   "id": "b4562b04-4a0f-403b-8271-861c3a7fde6c",
   "metadata": {},
   "source": []
  },
  {
   "cell_type": "code",
   "execution_count": null,
   "id": "5b6c642e-1a18-48cd-ba9f-5cb87ed9bf07",
   "metadata": {},
   "outputs": [],
   "source": []
  }
 ],
 "metadata": {
  "kernelspec": {
   "display_name": "csky_env",
   "language": "python",
   "name": "csky_env"
  },
  "language_info": {
   "codemirror_mode": {
    "name": "ipython",
    "version": 3
   },
   "file_extension": ".py",
   "mimetype": "text/x-python",
   "name": "python",
   "nbconvert_exporter": "python",
   "pygments_lexer": "ipython3",
   "version": "3.6.8"
  }
 },
 "nbformat": 4,
 "nbformat_minor": 5
}
