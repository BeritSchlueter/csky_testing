{
 "cells": [
  {
   "cell_type": "code",
   "execution_count": 2,
   "id": "f92369ad-b429-4a4e-b9ae-8733b4824a82",
   "metadata": {},
   "outputs": [],
   "source": [
    "import numpy as np\n",
    "import matplotlib.pyplot as plt\n",
    "\n",
    "import histlite as hl\n",
    "import csky as cy\n",
    "import glob as glob\n",
    "\n",
    "%matplotlib inline"
   ]
  },
  {
   "cell_type": "code",
   "execution_count": 3,
   "id": "ea40dbd3-281f-4372-99f6-6b524bafb328",
   "metadata": {},
   "outputs": [],
   "source": [
    "timer = cy.timing.Timer()\n",
    "time = timer.time"
   ]
  },
  {
   "cell_type": "code",
   "execution_count": 31,
   "id": "2ebc512a-8c93-4d2e-9a22-df8db06947c7",
   "metadata": {},
   "outputs": [],
   "source": [
    "# Reading in the signal and background files and change the keys to the on\n",
    "\n",
    "def get_signal_files(key):\n",
    "    dir = \"/data/user/bschlueter/software/nusources_dataset_converters/data/queso_\"+str(key)+\".npy\"\n",
    "    sig = np.load(dir)\n",
    "    sig = np.hstack(sig)\n",
    "    sig_upgraded = np.lib.recfunctions.rename_fields(sig, {'ow': 'oneweight','trueE':'true_energy'})\n",
    "    sig_upgraded = sig_upgraded.view(np.recarray)\n",
    "    return sig_upgraded\n",
    "\n",
    "bg_filename = \"/data/user/bschlueter/software/nusources_dataset_converters/data/muongun_131028.npy\"\n",
    "bg = np.load(bg_filename)\n",
    "bg_upgraded = np.lib.recfunctions.rename_fields(bg, {'atmo_weight': 'weight'})\n",
    "bg_upgraded = bg_upgraded.view(np.recarray)"
   ]
  },
  {
   "cell_type": "code",
   "execution_count": 32,
   "id": "7e7d896c-fad4-4e57-b323-436fd09886a9",
   "metadata": {},
   "outputs": [
    {
     "name": "stdout",
     "output_type": "stream",
     "text": [
      "Setting up Analysis for:\n",
      "\n",
      "Done.\n",
      "\n",
      "0:00:00.003542 elapsed.\n"
     ]
    }
   ],
   "source": [
    "#loading the data and saving it in a dataset list\n",
    "keys = ['120028','121028','140028','141028','160028','161028']\n",
    "Dataset = []\n",
    "for key in keys:  \n",
    "    Dataset.append(cy.selections.Dataset(key = key,livetime=8*60*60, sig= get_signal_files(key), bg = bg_upgraded))\n",
    "\n",
    "with time('ana setup (from scratch)'):\n",
    "    ana = cy.get_analysis(cy.selections.repo,spec = Dataset)"
   ]
  },
  {
   "cell_type": "code",
   "execution_count": 33,
   "id": "6360cbed-59eb-4972-9092-b72366c9068c",
   "metadata": {},
   "outputs": [
    {
     "data": {
      "text/plain": [
       "[Dataset('120028', livetime = 28800s) with  and 0.0006169195555999903 expected bg events and sum(ow*E^-2) = 1.60,\n",
       " Dataset('121028', livetime = 28800s) with  and 0.0006169195555999903 expected bg events and sum(ow*E^-2) = 0.41,\n",
       " Dataset('140028', livetime = 28800s) with  and 0.0006169195555999903 expected bg events and sum(ow*E^-2) = 1.46,\n",
       " Dataset('141028', livetime = 28800s) with  and 0.0006169195555999903 expected bg events and sum(ow*E^-2) = 1.47,\n",
       " Dataset('160028', livetime = 28800s) with  and 0.0006169195555999903 expected bg events and sum(ow*E^-2) = 1.02,\n",
       " Dataset('161028', livetime = 28800s) with  and 0.0006169195555999903 expected bg events and sum(ow*E^-2) = 0.50]"
      ]
     },
     "execution_count": 33,
     "metadata": {},
     "output_type": "execute_result"
    }
   ],
   "source": [
    "Dataset"
   ]
  },
  {
   "cell_type": "markdown",
   "id": "8904003c-467b-455b-864e-84cb8b60a3e5",
   "metadata": {},
   "source": [
    "<span style=\"color:red;\">Problem: empty keys in ana.</span>"
   ]
  },
  {
   "cell_type": "code",
   "execution_count": 35,
   "id": "2aeaf33b-74d4-4081-8587-8a65552a5c40",
   "metadata": {},
   "outputs": [
    {
     "name": "stdout",
     "output_type": "stream",
     "text": [
      "Analysis(keys=[])\n"
     ]
    }
   ],
   "source": [
    "cy.CONF['ana'] = ana\n",
    "cy.CONF['mp_cpus'] = 1\n",
    "print(ana)"
   ]
  },
  {
   "cell_type": "markdown",
   "id": "b4562b04-4a0f-403b-8271-861c3a7fde6c",
   "metadata": {},
   "source": [
    "- I'm not exactly sure what config I should use for the BG estimation\n",
    "  "
   ]
  },
  {
   "cell_type": "code",
   "execution_count": null,
   "id": "59cceb37-02f2-40b5-b418-9224a2590926",
   "metadata": {},
   "outputs": [],
   "source": []
  }
 ],
 "metadata": {
  "kernelspec": {
   "display_name": "csky_env",
   "language": "python",
   "name": "csky_env"
  },
  "language_info": {
   "codemirror_mode": {
    "name": "ipython",
    "version": 3
   },
   "file_extension": ".py",
   "mimetype": "text/x-python",
   "name": "python",
   "nbconvert_exporter": "python",
   "pygments_lexer": "ipython3",
   "version": "3.6.8"
  }
 },
 "nbformat": 4,
 "nbformat_minor": 5
}
